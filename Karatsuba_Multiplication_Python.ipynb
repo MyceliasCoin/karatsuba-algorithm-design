{
 "cells": [
  {
   "cell_type": "markdown",
   "metadata": {},
   "source": [
    "# Karatsuba Multiplication in Python\n",
    "\n",
    "The Karatsuba multiplication algorithm is named after the Russian mathematician Anatoly Karatsuba. It uses a divide and conquer approach that gives it a running time improvement over the standard “grade-school” method. Here we discuss Python implementations of both algorithms and compare their running times."
   ]
  },
  {
   "cell_type": "markdown",
   "metadata": {},
   "source": [
    "## 1. The Problem\n",
    "\n",
    "You are given two integers x and y. Both have a length of length n digits. You want to find the product of these two numbers. So you want to find z in: __z = x * y__\n",
    "\n",
    "The size of the problem is n. The more digits in x and y the harder the problem.\n",
    "\n",
    "Above I have assumed that both x and y have the same digit length. The problem can be extended to cases where they are not the same number of digits. To do this just add the appropriate number of zeros to the left of the smaller of the two integers."
   ]
  },
  {
   "cell_type": "markdown",
   "metadata": {},
   "source": [
    "## 2. The Grade School Algorithm\n",
    "\n",
    "The algorithm is:\n",
    "\n",
    "1. Break the second number into units, tens, hundreds, thousands etc.\n",
    "2. Start with the units. Multiply the units from the second number by each digit in the first number.\n",
    "3. Do the same with the tens but add a zero before your answer.\n",
    "4. Do the same with the hundreds but add two zeros before your answer.\n",
    "5. Continue through the digits of the second number adding an additional zero before your answer each time.\n",
    "6. Sum all these partial multiplications to get the final answer."
   ]
  },
  {
   "cell_type": "markdown",
   "metadata": {},
   "source": [
    "## 3. Grade School Algorithm in Python\n",
    "\n",
    "This iterative process can be coded in Python with a double for loop. The first for loop works through the digits in the second number. The second (nested) for loop works through the digits in the first number."
   ]
  },
  {
   "cell_type": "code",
   "execution_count": 8,
   "metadata": {},
   "outputs": [],
   "source": [
    "# Return string with zeros added to the left or right\n",
    "def zeroPad(numberString, zeros, left = True):\n",
    "    for i in range(zeros):\n",
    "        if left:\n",
    "            numberString + \"0\" + numberString\n",
    "        else:\n",
    "            numberString = numberString + \"0\"\n",
    "    return numberString\n",
    "\n",
    "# Multiply two integers using the grade school algorithm\n",
    "def gradeSchoolMultiplication(x, y):\n",
    "    # Convert to strings for easy access to digits\n",
    "    x = str(x)\n",
    "    y = str(y)\n",
    "    \n",
    "    # Track number of zeros required to pad during partial multiplications\n",
    "    zeroPadding = 0\n",
    "    \n",
    "    # Sum partial multiplications\n",
    "    partialSum = 0\n",
    "    \n",
    "    # Track sum of partial multiplications\n",
    "    for i in range(len(y) - 1, -1, -1):\n",
    "        \n",
    "        # Track carry number for multiplications that result in answers > 9\n",
    "        carry = 0\n",
    "        \n",
    "        # Partial multiplication answer as a string for easier manipulation\n",
    "        partial = \"\"\n",
    "        \n",
    "        # Pad with zeros on the RIGHT\n",
    "        partial = zeroPad(partial, zeroPadding, False)\n",
    "        \n",
    "        # Loop over each digit in the first number\n",
    "        for j in range(len(x) - 1, -1, -1):\n",
    "            z = int(y[i]) * int(x[j])\n",
    "            z += carry\n",
    "            \n",
    "            # Convert to string for easier manipulation\n",
    "            z = str(z)\n",
    "            \n",
    "            # Track carry when answer > 9\n",
    "            if len(z) > 1:\n",
    "                carry = int(z[0])\n",
    "            else:\n",
    "                carry = 0\n",
    "                \n",
    "            # Concatenate final answer to the left of partial string\n",
    "            partial = z[len(z) - 1] + partial\n",
    "            \n",
    "        # Concatenate any leftover carry to end of partial string\n",
    "        if carry > 0:\n",
    "            partial = str(carry) + partial\n",
    "            \n",
    "        # Sum partials\n",
    "        partialSum += int(partial)\n",
    "        \n",
    "        # Add another zero to the right for the next digit of the second number y\n",
    "        zeroPadding += 1\n",
    "        \n",
    "    return partialSum"
   ]
  },
  {
   "cell_type": "code",
   "execution_count": 10,
   "metadata": {},
   "outputs": [
    {
     "name": "stdout",
     "output_type": "stream",
     "text": [
      "20100600\n"
     ]
    }
   ],
   "source": [
    "print(gradeSchoolMultiplication(2925, 6872))"
   ]
  },
  {
   "cell_type": "markdown",
   "metadata": {},
   "source": [
    "## 4. Grade School Algorithm Running Time\n",
    "\n",
    "When thinking about running times we need to be clear what we actually mean by running time. All the calculations in the algorithm can broken down into single digit additions, subtractions and multiplications. This is what we will base our running time analysis on.\n",
    "\n",
    "The running time is the total single digit addition, subtraction and multiplication calculations used to compute an answer. We will call an algorithm faster if it uses fewer of these basic operations to compute an answer.\n",
    "\n",
    "How many of these basic calculations does the grade-school algorithm need? Each partial multiplication requires $n$ single digit multiplications. One for each digit in the first number. It also needs at most another n single digit additions when numbers are carried. So each partial multiplication uses at most $2n$ of the basic operations.\n",
    "\n",
    "There are $n$ partial multiplications. One for each digit in the second number. So the maximum number of basic operations needed to calculate all partial multiplications is $2n^2$.\n",
    "\n",
    "How about adding all the partial multiplications? How many basic operations will that use? At most $2n^2$ are needed.\n",
    "\n",
    "In total the maximum number of basic operations the grade-school algorithm needs to use is $4n^2$. This is the worst case running time. If we get lucky and multiply two numbers that don’t need lots of “carrying” then fewer calculations will be needed."
   ]
  },
  {
   "cell_type": "markdown",
   "metadata": {},
   "source": [
    "## 5. Karatsuba's Algorithm\n",
    "\n",
    "The key to understanding Karatsuba’s multiplication algorithm is remembering that you can express x (an n-digit integer) in the following way:\n",
    "\n",
    "$x = a * 10^{n/2} + b$"
   ]
  },
  {
   "cell_type": "markdown",
   "metadata": {},
   "source": [
    "You can use this if you want to multiply x by another n-digit integer y:\n",
    "\n",
    "$y = c * 10^{n/2} + d$"
   ]
  },
  {
   "cell_type": "markdown",
   "metadata": {},
   "source": [
    "Then x multiplied by y can be written as:\n",
    "\n",
    "$xy = (a * 10^{n/2} + b)(c * 10^{n/2} + d)$\n",
    "\n",
    "$xy = ac * 10^n + (ad + bc) * 10^{n/2} + bd$"
   ]
  },
  {
   "cell_type": "markdown",
   "metadata": {},
   "source": [
    "This is where Karatsuba found a neat trick. He found a way to calculate ac, bd and (ad + bc) with just three multiplications (instead of four).\n",
    "\n",
    "To see why think about:\n",
    "\n",
    "$(a + b)(c + d) = ac + ad + bc + bd$"
   ]
  },
  {
   "cell_type": "markdown",
   "metadata": {},
   "source": [
    "If you have already calculated ac, and bd then $(ab + bc)$ can be calculated by subtracting $ac$ and $bd$ from $(a+b)(c+d)$:\n",
    "\n",
    "$(a + b)(c + d) - ac - bd = ad + bc$"
   ]
  },
  {
   "cell_type": "markdown",
   "metadata": {},
   "source": [
    "You can use Karatsuba’s trick recursively to compute the multiplication - below are the algorithm steps:\n",
    "\n",
    "1. Break the two integers $x$ and $y$ into $a$, $b$, $c$ and $d$ as described above\n",
    "2. Recursively compute $ac$\n",
    "3. Recursively compute $bd$\n",
    "4. Recursively compute $(a + b)(c + d)$\n",
    "5. Calculate $(ab + bc)$ as $(a + b)(c + d) – ac – bd$\n",
    "6. Let A be $ac$ with $n$ zeros added to the end\n",
    "7. Let B be $(ab + bc)$ with half $n$ zeros added to the end\n",
    "8. The final answer is $A + B + bd$"
   ]
  },
  {
   "cell_type": "markdown",
   "metadata": {},
   "source": [
    "By “recursively compute” I mean call the algorithm again to calculate these multiplications. For recursion you always need a base case to prevent an endless loop. The base case here is when the two integers x and y are single digit. In this case the algorithm just calculates and and returns their product.\n",
    "\n",
    "__Warning__: this is only valid for integers with an even number of digits. You can easily extend it to be correct for odd digit integers. You just need to make sure there is consistency between the number of digits in b and d and the zeros you add to get A and B."
   ]
  },
  {
   "cell_type": "markdown",
   "metadata": {},
   "source": [
    "## 6. Karatsuba Example\n",
    "\n",
    "Let’s apply the Karatsuba algorithm to calculate the product of $2925$ and $6872$."
   ]
  },
  {
   "cell_type": "markdown",
   "metadata": {},
   "source": [
    "First break the 2925 into 2 chunks, $a = 29$ and $b = 25$. Then break the second integer into two chunks, $c = 68$ and $d = 72$.\n",
    "\n",
    "Then calculate $ac$ as $29 * 68 = 1972$, $bd$ as $25 * 72 = 1800$ and $(a + b) * (c + d)$ as $(29 + 25) * (68 + 72) = 54 * 140 = 7560$.\n",
    "\n",
    "Next subtract $ac$ and $bd$ from the final quantity to get $(ad + bc) = 7560 – 1972 – 1800 = 3788$.\n",
    "\n",
    "Add 4 zeros to the end of $ac$ to get $19,720,000$ call this number $A$.\n",
    "\n",
    "Add 2 zeros to the end of $(ab + cd)$ to get $378,800$ call this number $B$.\n",
    "\n",
    "Then sum $A = 19,720,000$, $B = 378,800$ and $bd = 1800$ to get $20,100,600$.\n",
    "\n",
    "This result matches exactly what we got with the grade-school algorithm."
   ]
  },
  {
   "cell_type": "markdown",
   "metadata": {},
   "source": [
    "## 7. Karatsuba Multiplication Algorithm in Python\n",
    "\n",
    "Below is an implementation of Karatsuba's algorithm. The zeroPad() function defined above for the grade-school algorithm is used. $k$ is the variable used to hold the value of $(a + b)(c + d)$.\n",
    "\n",
    "Note use of recursion when calculating $ac$, $bd$ and $k$. This works because a base case is specified for single digit integers."
   ]
  },
  {
   "cell_type": "code",
   "execution_count": 72,
   "metadata": {},
   "outputs": [],
   "source": [
    "# Multiply two integers using Karatsuba's multiplication algorithm\n",
    "def karatsubaMultiplication(x, y):\n",
    "    \n",
    "    # Convert to strings for easy access to digits\n",
    "    x = str(x)\n",
    "    y = str(y)\n",
    "    \n",
    "    # Base case for recursion\n",
    "    if len(x) == 1 and len(y) == 1:\n",
    "        return int(x) * int(y)\n",
    "    if len(x) < len(y):\n",
    "        x = zeroPad(x, len(y) - len(x))\n",
    "    elif len(y) < len(x):\n",
    "        y = zeroPad(y, len(x) - len(y))\n",
    "\n",
    "    n = len(x)\n",
    "    j = n//2\n",
    "    \n",
    "    # For odd digit integers\n",
    "    if (n % 2) != 0:\n",
    "        j += 1\n",
    "        \n",
    "    BZeroPadding = n - j\n",
    "    AZeroPadding = BZeroPadding * 2\n",
    "    \n",
    "    a = int(x[:j])\n",
    "    b = int(x[j:])\n",
    "    c = int(y[:j])\n",
    "    d = int(y[j:])\n",
    "    \n",
    "    print(a, b, c, d)\n",
    "    \n",
    "    # Recursively calculate\n",
    "    ac = karatsubaMultiplication(a, c)\n",
    "    bd = karatsubaMultiplication(b, d)\n",
    "    k = karatsubaMultiplication(a + b, c + d)\n",
    "    A = int(zeroPad(str(ac), AZeroPadding, False))\n",
    "    B = int(zeroPad(str(k - ac - bd), BZeroPadding, False))\n",
    "    \n",
    "    return A + B + bd\n",
    "    print(A + B + bd)"
   ]
  },
  {
   "cell_type": "code",
   "execution_count": 75,
   "metadata": {},
   "outputs": [],
   "source": [
    "# Multiply two integers using Karatsuba's multiplication algorithm\n",
    "# https://stackoverflow.com/questions/42324419/karatsuba-multiplication-implementation\n",
    "def karatsuba(x, y):\n",
    "    \n",
    "    # Base case for recursion\n",
    "    if len(str(x)) == 1 or len(str(y)) == 1:\n",
    "        # print (x * y)\n",
    "        return x * y\n",
    "    \n",
    "    else:\n",
    "        m = max(len(str(x)),len(str(y)))\n",
    "        m2 = m // 2\n",
    "        \n",
    "        # Use // to take first digit group and % to take second digit group in both x and y\n",
    "        a = x // 10**(m2)\n",
    "        b = x % 10**(m2)\n",
    "        c = y // 10**(m2)\n",
    "        d = y % 10**(m2)\n",
    "        \n",
    "        # print (a, b, c, d)\n",
    "\n",
    "        # Recursively calculate\n",
    "        A = karatsuba(a, c)\n",
    "        B = karatsuba(a + b, c + d)\n",
    "        bd = karatsuba(b, d)\n",
    "        \n",
    "        # print ((A * 10**(2 * m2)) + ((B - A - bd) * 10**(m2)) + bd)\n",
    "        return (A * 10**(2 * m2)) + ((B - A - bd) * 10**(m2)) + bd"
   ]
  },
  {
   "cell_type": "code",
   "execution_count": 76,
   "metadata": {},
   "outputs": [
    {
     "name": "stdout",
     "output_type": "stream",
     "text": [
      "8539734222673567065463550869546574495034888535765114961879601127067743044893204848617875072216249073013374895871952806582723184\n"
     ]
    }
   ],
   "source": [
    "print(karatsuba(3141592653589793238462643383279502884197169399375105820974944592, 2718281828459045235360287471352662497757247093699959574966967627))"
   ]
  },
  {
   "cell_type": "markdown",
   "metadata": {},
   "source": [
    "## 8. Karatsuba Running Time\n",
    "\n",
    "To find an upper bound on the running time of Karatsuba’s algorithm we can use the master theorem. The master theorem states that the running time of a recursive algorithm is:\n",
    "\n",
    "If $T(n) = aT(n/b) + O(n^d)$\n",
    "\n",
    "Then:\n",
    "\n",
    "$T(n) = O(n^d * log(n))$ if $a = b^d$\n",
    "\n",
    "$T(n) = O(n^a)$ if $a < b^d$\n",
    "\n",
    "$T(n) = O(n^{logb(a)})$ if $a > b^d$"
   ]
  },
  {
   "cell_type": "markdown",
   "metadata": {},
   "source": [
    "Where:\n",
    "\n",
    "-  $T(n)$ the running time of the algorithm\n",
    "-  $a$ is the number of recursive calls used\n",
    "-  $b$ is the scale that the problem size shrinks by with each recursive call\n",
    "-  $O(n^d)$ represents the work done by the algorithm outside of the recursive calls"
   ]
  },
  {
   "cell_type": "markdown",
   "metadata": {},
   "source": [
    "For Karatsuba’s algorithm we can see there are three recursive calls. On lines 25, 26 and 27. So a = 3.\n",
    "\n",
    "Each time a recursive call is made it is on a problem of half the size. This is because of the way each number is broken into two even sized chunks. So b = 2.\n",
    "\n",
    "Outside of the recursive calls Karatsuba’s algorithm uses a constant number of addition and subtractions. Six in total. On lines 27, 29 and 30. Each of which will use at most 3n single digit additions. So we can say the work done outside recursive calls is O(n). So d = 1.\n",
    "\n",
    "Because a = 3 and db = 2 we know a < bd. This means the last case of the master theorem is used. So the running time of Karatsuba’s recursive algorithm is:\n",
    "\n",
    "$T(n) = O(n^{log2(3)})$\n",
    "\n",
    "$T(n) = O(n^{1.585})$"
   ]
  },
  {
   "cell_type": "markdown",
   "metadata": {},
   "source": [
    "The Grade School algorithm had a worst case running time of $4n^2$.\n",
    "\n",
    "$4n^2$ is $O(n^2)$. Karatsuba’s algorithm is faster with $O(n^{1.585})$ running time.\n",
    "\n",
    "Karatsuba wins!"
   ]
  }
 ],
 "metadata": {
  "kernelspec": {
   "display_name": "Python 3",
   "language": "python",
   "name": "python3"
  },
  "language_info": {
   "codemirror_mode": {
    "name": "ipython",
    "version": 3
   },
   "file_extension": ".py",
   "mimetype": "text/x-python",
   "name": "python",
   "nbconvert_exporter": "python",
   "pygments_lexer": "ipython3",
   "version": "3.6.5"
  }
 },
 "nbformat": 4,
 "nbformat_minor": 2
}
