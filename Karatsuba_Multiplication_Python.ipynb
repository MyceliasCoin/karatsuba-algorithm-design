{
 "cells": [
  {
   "cell_type": "markdown",
   "metadata": {},
   "source": [
    "# Karatsuba Multiplication in Python\n",
    "\n",
    "The Karatsuba multiplication algorithm is named after the Russian mathematician Anatoly Karatsuba. It uses a divide and conquer approach that gives it a running time improvement over the standard “grade-school” method. Here we discuss Python implementations of both algorithms and compare their running times."
   ]
  },
  {
   "cell_type": "markdown",
   "metadata": {},
   "source": [
    "## 1. The Problem\n",
    "\n",
    "You are given two integers x and y. Both have a length of length n digits. You want to find the product of these two numbers. So you want to find z in: __z = x * y__\n",
    "\n",
    "The size of the problem is n. The more digits in x and y the harder the problem.\n",
    "\n",
    "Above I have assumed that both x and y have the same digit length. The problem can be extended to cases where they are not the same number of digits. To do this just add the appropriate number of zeros to the left of the smaller of the two integers."
   ]
  },
  {
   "cell_type": "markdown",
   "metadata": {},
   "source": [
    "## 2. The Grade School Algorithm\n",
    "\n",
    "The algorithm is:\n",
    "\n",
    "1. Break the second number into units, tens, hundreds, thousands etc.\n",
    "2. Start with the units. Multiply the units from the second number by each digit in the first number.\n",
    "3. Do the same with the tens but add a zero before your answer.\n",
    "4. Do the same with the hundreds but add two zeros before your answer.\n",
    "5. Continue through the digits of the second number adding an additional zero before your answer each time.\n",
    "6. Sum all these partial multiplications to get the final answer."
   ]
  }
 ],
 "metadata": {
  "kernelspec": {
   "display_name": "Python 3",
   "language": "python",
   "name": "python3"
  },
  "language_info": {
   "codemirror_mode": {
    "name": "ipython",
    "version": 3
   },
   "file_extension": ".py",
   "mimetype": "text/x-python",
   "name": "python",
   "nbconvert_exporter": "python",
   "pygments_lexer": "ipython3",
   "version": "3.6.5"
  }
 },
 "nbformat": 4,
 "nbformat_minor": 2
}
